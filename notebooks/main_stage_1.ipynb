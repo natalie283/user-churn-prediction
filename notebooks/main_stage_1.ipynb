{
 "cells": [
  {
   "cell_type": "code",
   "execution_count": 3,
   "metadata": {},
   "outputs": [
    {
     "ename": "OSError",
     "evalue": "dlopen(/Users/natalie/anaconda3/lib/python3.8/site-packages/lightgbm/lib/lib_lightgbm.so, 0x0006): Library not loaded: /usr/local/opt/libomp/lib/libomp.dylib\n  Referenced from: <C3EB28DD-60B6-3334-AFA2-72BBBF9DBAEF> /Users/natalie/anaconda3/lib/python3.8/site-packages/lightgbm/lib/lib_lightgbm.so\n  Reason: tried: '/usr/local/opt/libomp/lib/libomp.dylib' (no such file), '/System/Volumes/Preboot/Cryptexes/OS/usr/local/opt/libomp/lib/libomp.dylib' (no such file), '/usr/local/opt/libomp/lib/libomp.dylib' (no such file), '/usr/local/lib/libomp.dylib' (no such file), '/usr/lib/libomp.dylib' (no such file, not in dyld cache)",
     "output_type": "error",
     "traceback": [
      "\u001b[0;31m---------------------------------------------------------------------------\u001b[0m",
      "\u001b[0;31mOSError\u001b[0m                                   Traceback (most recent call last)",
      "Cell \u001b[0;32mIn [3], line 11\u001b[0m\n\u001b[1;32m      9\u001b[0m \u001b[38;5;28;01mfrom\u001b[39;00m \u001b[38;5;21;01msklearn\u001b[39;00m\u001b[38;5;21;01m.\u001b[39;00m\u001b[38;5;21;01mlinear_model\u001b[39;00m \u001b[38;5;28;01mimport\u001b[39;00m LogisticRegression\n\u001b[1;32m     10\u001b[0m \u001b[38;5;28;01mfrom\u001b[39;00m \u001b[38;5;21;01msklearn\u001b[39;00m\u001b[38;5;21;01m.\u001b[39;00m\u001b[38;5;21;01mensemble\u001b[39;00m \u001b[38;5;28;01mimport\u001b[39;00m RandomForestClassifier\n\u001b[0;32m---> 11\u001b[0m \u001b[38;5;28;01mfrom\u001b[39;00m \u001b[38;5;21;01mlightgbm\u001b[39;00m \u001b[38;5;28;01mimport\u001b[39;00m LGBMClassifier\n\u001b[1;32m     12\u001b[0m \u001b[38;5;28;01mfrom\u001b[39;00m \u001b[38;5;21;01mxgboost\u001b[39;00m \u001b[38;5;28;01mimport\u001b[39;00m XGBClassifier\n\u001b[1;32m     13\u001b[0m \u001b[38;5;28;01mfrom\u001b[39;00m \u001b[38;5;21;01msklearn\u001b[39;00m\u001b[38;5;21;01m.\u001b[39;00m\u001b[38;5;21;01mutils\u001b[39;00m\u001b[38;5;21;01m.\u001b[39;00m\u001b[38;5;21;01mclass_weight\u001b[39;00m \u001b[38;5;28;01mimport\u001b[39;00m compute_class_weight\n",
      "File \u001b[0;32m~/anaconda3/lib/python3.8/site-packages/lightgbm/__init__.py:8\u001b[0m\n\u001b[1;32m      2\u001b[0m \u001b[38;5;124;03m\"\"\"LightGBM, Light Gradient Boosting Machine.\u001b[39;00m\n\u001b[1;32m      3\u001b[0m \n\u001b[1;32m      4\u001b[0m \u001b[38;5;124;03mContributors: https://github.com/microsoft/LightGBM/graphs/contributors.\u001b[39;00m\n\u001b[1;32m      5\u001b[0m \u001b[38;5;124;03m\"\"\"\u001b[39;00m\n\u001b[1;32m      6\u001b[0m \u001b[38;5;28;01mfrom\u001b[39;00m \u001b[38;5;21;01mpathlib\u001b[39;00m \u001b[38;5;28;01mimport\u001b[39;00m Path\n\u001b[0;32m----> 8\u001b[0m \u001b[38;5;28;01mfrom\u001b[39;00m \u001b[38;5;21;01m.\u001b[39;00m\u001b[38;5;21;01mbasic\u001b[39;00m \u001b[38;5;28;01mimport\u001b[39;00m Booster, Dataset, Sequence, register_logger\n\u001b[1;32m      9\u001b[0m \u001b[38;5;28;01mfrom\u001b[39;00m \u001b[38;5;21;01m.\u001b[39;00m\u001b[38;5;21;01mcallback\u001b[39;00m \u001b[38;5;28;01mimport\u001b[39;00m EarlyStopException, early_stopping, log_evaluation, record_evaluation, reset_parameter\n\u001b[1;32m     10\u001b[0m \u001b[38;5;28;01mfrom\u001b[39;00m \u001b[38;5;21;01m.\u001b[39;00m\u001b[38;5;21;01mengine\u001b[39;00m \u001b[38;5;28;01mimport\u001b[39;00m CVBooster, cv, train\n",
      "File \u001b[0;32m~/anaconda3/lib/python3.8/site-packages/lightgbm/basic.py:247\u001b[0m\n\u001b[1;32m    245\u001b[0m     _LIB \u001b[38;5;241m=\u001b[39m Mock(ctypes\u001b[38;5;241m.\u001b[39mCDLL)  \u001b[38;5;66;03m# type: ignore\u001b[39;00m\n\u001b[1;32m    246\u001b[0m \u001b[38;5;28;01melse\u001b[39;00m:\n\u001b[0;32m--> 247\u001b[0m     _LIB \u001b[38;5;241m=\u001b[39m \u001b[43m_load_lib\u001b[49m\u001b[43m(\u001b[49m\u001b[43m)\u001b[49m\n\u001b[1;32m    250\u001b[0m _NUMERIC_TYPES \u001b[38;5;241m=\u001b[39m (\u001b[38;5;28mint\u001b[39m, \u001b[38;5;28mfloat\u001b[39m, \u001b[38;5;28mbool\u001b[39m)\n\u001b[1;32m    251\u001b[0m _ArrayLike \u001b[38;5;241m=\u001b[39m Union[List, np\u001b[38;5;241m.\u001b[39mndarray, pd_Series]\n",
      "File \u001b[0;32m~/anaconda3/lib/python3.8/site-packages/lightgbm/basic.py:232\u001b[0m, in \u001b[0;36m_load_lib\u001b[0;34m()\u001b[0m\n\u001b[1;32m    230\u001b[0m \u001b[38;5;124;03m\"\"\"Load LightGBM library.\"\"\"\u001b[39;00m\n\u001b[1;32m    231\u001b[0m lib_path \u001b[38;5;241m=\u001b[39m find_lib_path()\n\u001b[0;32m--> 232\u001b[0m lib \u001b[38;5;241m=\u001b[39m \u001b[43mctypes\u001b[49m\u001b[38;5;241;43m.\u001b[39;49m\u001b[43mcdll\u001b[49m\u001b[38;5;241;43m.\u001b[39;49m\u001b[43mLoadLibrary\u001b[49m\u001b[43m(\u001b[49m\u001b[43mlib_path\u001b[49m\u001b[43m[\u001b[49m\u001b[38;5;241;43m0\u001b[39;49m\u001b[43m]\u001b[49m\u001b[43m)\u001b[49m\n\u001b[1;32m    233\u001b[0m lib\u001b[38;5;241m.\u001b[39mLGBM_GetLastError\u001b[38;5;241m.\u001b[39mrestype \u001b[38;5;241m=\u001b[39m ctypes\u001b[38;5;241m.\u001b[39mc_char_p\n\u001b[1;32m    234\u001b[0m callback \u001b[38;5;241m=\u001b[39m ctypes\u001b[38;5;241m.\u001b[39mCFUNCTYPE(\u001b[38;5;28;01mNone\u001b[39;00m, ctypes\u001b[38;5;241m.\u001b[39mc_char_p)\n",
      "File \u001b[0;32m~/anaconda3/lib/python3.8/ctypes/__init__.py:459\u001b[0m, in \u001b[0;36mLibraryLoader.LoadLibrary\u001b[0;34m(self, name)\u001b[0m\n\u001b[1;32m    458\u001b[0m \u001b[38;5;28;01mdef\u001b[39;00m \u001b[38;5;21mLoadLibrary\u001b[39m(\u001b[38;5;28mself\u001b[39m, name):\n\u001b[0;32m--> 459\u001b[0m     \u001b[38;5;28;01mreturn\u001b[39;00m \u001b[38;5;28;43mself\u001b[39;49m\u001b[38;5;241;43m.\u001b[39;49m\u001b[43m_dlltype\u001b[49m\u001b[43m(\u001b[49m\u001b[43mname\u001b[49m\u001b[43m)\u001b[49m\n",
      "File \u001b[0;32m~/anaconda3/lib/python3.8/ctypes/__init__.py:381\u001b[0m, in \u001b[0;36mCDLL.__init__\u001b[0;34m(self, name, mode, handle, use_errno, use_last_error, winmode)\u001b[0m\n\u001b[1;32m    378\u001b[0m \u001b[38;5;28mself\u001b[39m\u001b[38;5;241m.\u001b[39m_FuncPtr \u001b[38;5;241m=\u001b[39m _FuncPtr\n\u001b[1;32m    380\u001b[0m \u001b[38;5;28;01mif\u001b[39;00m handle \u001b[38;5;129;01mis\u001b[39;00m \u001b[38;5;28;01mNone\u001b[39;00m:\n\u001b[0;32m--> 381\u001b[0m     \u001b[38;5;28mself\u001b[39m\u001b[38;5;241m.\u001b[39m_handle \u001b[38;5;241m=\u001b[39m \u001b[43m_dlopen\u001b[49m\u001b[43m(\u001b[49m\u001b[38;5;28;43mself\u001b[39;49m\u001b[38;5;241;43m.\u001b[39;49m\u001b[43m_name\u001b[49m\u001b[43m,\u001b[49m\u001b[43m \u001b[49m\u001b[43mmode\u001b[49m\u001b[43m)\u001b[49m\n\u001b[1;32m    382\u001b[0m \u001b[38;5;28;01melse\u001b[39;00m:\n\u001b[1;32m    383\u001b[0m     \u001b[38;5;28mself\u001b[39m\u001b[38;5;241m.\u001b[39m_handle \u001b[38;5;241m=\u001b[39m handle\n",
      "\u001b[0;31mOSError\u001b[0m: dlopen(/Users/natalie/anaconda3/lib/python3.8/site-packages/lightgbm/lib/lib_lightgbm.so, 0x0006): Library not loaded: /usr/local/opt/libomp/lib/libomp.dylib\n  Referenced from: <C3EB28DD-60B6-3334-AFA2-72BBBF9DBAEF> /Users/natalie/anaconda3/lib/python3.8/site-packages/lightgbm/lib/lib_lightgbm.so\n  Reason: tried: '/usr/local/opt/libomp/lib/libomp.dylib' (no such file), '/System/Volumes/Preboot/Cryptexes/OS/usr/local/opt/libomp/lib/libomp.dylib' (no such file), '/usr/local/opt/libomp/lib/libomp.dylib' (no such file), '/usr/local/lib/libomp.dylib' (no such file), '/usr/lib/libomp.dylib' (no such file, not in dyld cache)"
     ]
    }
   ],
   "source": [
    "import pandas as pd\n",
    "import numpy as np\n",
    "from sklearn.preprocessing import OneHotEncoder \n",
    "from sklearn.model_selection import StratifiedKFold, train_test_split\n",
    "from sklearn.metrics import classification_report, roc_auc_score, f1_score, accuracy_score,confusion_matrix\n",
    "\n",
    "from imblearn.over_sampling import SMOTE\n",
    "from imblearn.under_sampling import RandomUnderSampler\n",
    "from sklearn.linear_model import LogisticRegression\n",
    "from sklearn.ensemble import RandomForestClassifier\n",
    "from lightgbm import LGBMClassifier\n",
    "from xgboost import XGBClassifier\n",
    "from sklearn.utils.class_weight import compute_class_weight\n",
    "from sklearn.preprocessing import RobustScaler\n",
    "from sklearn.neural_network import MLPClassifier\n",
    "   \n",
    "\n",
    "import lightgbm as lgb\n",
    "import matplotlib.pyplot as plt\n",
    "import seaborn as sns\n",
    "import gc\n",
    "import warnings\n",
    "warnings.filterwarnings('ignore')\n",
    "# calculate class weights based on the training data"
   ]
  },
  {
   "cell_type": "code",
   "execution_count": 4,
   "metadata": {},
   "outputs": [
    {
     "ename": "OSError",
     "evalue": "dlopen(/Users/natalie/anaconda3/lib/python3.8/site-packages/lightgbm/lib/lib_lightgbm.so, 0x0006): Library not loaded: /usr/local/opt/libomp/lib/libomp.dylib\n  Referenced from: <C3EB28DD-60B6-3334-AFA2-72BBBF9DBAEF> /Users/natalie/anaconda3/lib/python3.8/site-packages/lightgbm/lib/lib_lightgbm.so\n  Reason: tried: '/usr/local/opt/libomp/lib/libomp.dylib' (no such file), '/System/Volumes/Preboot/Cryptexes/OS/usr/local/opt/libomp/lib/libomp.dylib' (no such file), '/usr/local/opt/libomp/lib/libomp.dylib' (no such file), '/usr/local/lib/libomp.dylib' (no such file), '/usr/lib/libomp.dylib' (no such file, not in dyld cache)",
     "output_type": "error",
     "traceback": [
      "\u001b[0;31m---------------------------------------------------------------------------\u001b[0m",
      "\u001b[0;31mOSError\u001b[0m                                   Traceback (most recent call last)",
      "Cell \u001b[0;32mIn [4], line 2\u001b[0m\n\u001b[1;32m      1\u001b[0m \u001b[38;5;28;01mimport\u001b[39;00m \u001b[38;5;21;01mpandas\u001b[39;00m \u001b[38;5;28;01mas\u001b[39;00m \u001b[38;5;21;01mpd\u001b[39;00m\n\u001b[0;32m----> 2\u001b[0m \u001b[38;5;28;01mimport\u001b[39;00m \u001b[38;5;21;01mlightgbm\u001b[39;00m \u001b[38;5;28;01mas\u001b[39;00m \u001b[38;5;21;01mlgb\u001b[39;00m\n\u001b[1;32m      4\u001b[0m \u001b[38;5;28mprint\u001b[39m(pd\u001b[38;5;241m.\u001b[39m__version__)\n\u001b[1;32m      5\u001b[0m \u001b[38;5;28mprint\u001b[39m(lgb\u001b[38;5;241m.\u001b[39m__version__)\n",
      "File \u001b[0;32m~/anaconda3/lib/python3.8/site-packages/lightgbm/__init__.py:8\u001b[0m\n\u001b[1;32m      2\u001b[0m \u001b[38;5;124;03m\"\"\"LightGBM, Light Gradient Boosting Machine.\u001b[39;00m\n\u001b[1;32m      3\u001b[0m \n\u001b[1;32m      4\u001b[0m \u001b[38;5;124;03mContributors: https://github.com/microsoft/LightGBM/graphs/contributors.\u001b[39;00m\n\u001b[1;32m      5\u001b[0m \u001b[38;5;124;03m\"\"\"\u001b[39;00m\n\u001b[1;32m      6\u001b[0m \u001b[38;5;28;01mfrom\u001b[39;00m \u001b[38;5;21;01mpathlib\u001b[39;00m \u001b[38;5;28;01mimport\u001b[39;00m Path\n\u001b[0;32m----> 8\u001b[0m \u001b[38;5;28;01mfrom\u001b[39;00m \u001b[38;5;21;01m.\u001b[39;00m\u001b[38;5;21;01mbasic\u001b[39;00m \u001b[38;5;28;01mimport\u001b[39;00m Booster, Dataset, Sequence, register_logger\n\u001b[1;32m      9\u001b[0m \u001b[38;5;28;01mfrom\u001b[39;00m \u001b[38;5;21;01m.\u001b[39;00m\u001b[38;5;21;01mcallback\u001b[39;00m \u001b[38;5;28;01mimport\u001b[39;00m EarlyStopException, early_stopping, log_evaluation, record_evaluation, reset_parameter\n\u001b[1;32m     10\u001b[0m \u001b[38;5;28;01mfrom\u001b[39;00m \u001b[38;5;21;01m.\u001b[39;00m\u001b[38;5;21;01mengine\u001b[39;00m \u001b[38;5;28;01mimport\u001b[39;00m CVBooster, cv, train\n",
      "File \u001b[0;32m~/anaconda3/lib/python3.8/site-packages/lightgbm/basic.py:247\u001b[0m\n\u001b[1;32m    245\u001b[0m     _LIB \u001b[38;5;241m=\u001b[39m Mock(ctypes\u001b[38;5;241m.\u001b[39mCDLL)  \u001b[38;5;66;03m# type: ignore\u001b[39;00m\n\u001b[1;32m    246\u001b[0m \u001b[38;5;28;01melse\u001b[39;00m:\n\u001b[0;32m--> 247\u001b[0m     _LIB \u001b[38;5;241m=\u001b[39m \u001b[43m_load_lib\u001b[49m\u001b[43m(\u001b[49m\u001b[43m)\u001b[49m\n\u001b[1;32m    250\u001b[0m _NUMERIC_TYPES \u001b[38;5;241m=\u001b[39m (\u001b[38;5;28mint\u001b[39m, \u001b[38;5;28mfloat\u001b[39m, \u001b[38;5;28mbool\u001b[39m)\n\u001b[1;32m    251\u001b[0m _ArrayLike \u001b[38;5;241m=\u001b[39m Union[List, np\u001b[38;5;241m.\u001b[39mndarray, pd_Series]\n",
      "File \u001b[0;32m~/anaconda3/lib/python3.8/site-packages/lightgbm/basic.py:232\u001b[0m, in \u001b[0;36m_load_lib\u001b[0;34m()\u001b[0m\n\u001b[1;32m    230\u001b[0m \u001b[38;5;124;03m\"\"\"Load LightGBM library.\"\"\"\u001b[39;00m\n\u001b[1;32m    231\u001b[0m lib_path \u001b[38;5;241m=\u001b[39m find_lib_path()\n\u001b[0;32m--> 232\u001b[0m lib \u001b[38;5;241m=\u001b[39m \u001b[43mctypes\u001b[49m\u001b[38;5;241;43m.\u001b[39;49m\u001b[43mcdll\u001b[49m\u001b[38;5;241;43m.\u001b[39;49m\u001b[43mLoadLibrary\u001b[49m\u001b[43m(\u001b[49m\u001b[43mlib_path\u001b[49m\u001b[43m[\u001b[49m\u001b[38;5;241;43m0\u001b[39;49m\u001b[43m]\u001b[49m\u001b[43m)\u001b[49m\n\u001b[1;32m    233\u001b[0m lib\u001b[38;5;241m.\u001b[39mLGBM_GetLastError\u001b[38;5;241m.\u001b[39mrestype \u001b[38;5;241m=\u001b[39m ctypes\u001b[38;5;241m.\u001b[39mc_char_p\n\u001b[1;32m    234\u001b[0m callback \u001b[38;5;241m=\u001b[39m ctypes\u001b[38;5;241m.\u001b[39mCFUNCTYPE(\u001b[38;5;28;01mNone\u001b[39;00m, ctypes\u001b[38;5;241m.\u001b[39mc_char_p)\n",
      "File \u001b[0;32m~/anaconda3/lib/python3.8/ctypes/__init__.py:459\u001b[0m, in \u001b[0;36mLibraryLoader.LoadLibrary\u001b[0;34m(self, name)\u001b[0m\n\u001b[1;32m    458\u001b[0m \u001b[38;5;28;01mdef\u001b[39;00m \u001b[38;5;21mLoadLibrary\u001b[39m(\u001b[38;5;28mself\u001b[39m, name):\n\u001b[0;32m--> 459\u001b[0m     \u001b[38;5;28;01mreturn\u001b[39;00m \u001b[38;5;28;43mself\u001b[39;49m\u001b[38;5;241;43m.\u001b[39;49m\u001b[43m_dlltype\u001b[49m\u001b[43m(\u001b[49m\u001b[43mname\u001b[49m\u001b[43m)\u001b[49m\n",
      "File \u001b[0;32m~/anaconda3/lib/python3.8/ctypes/__init__.py:381\u001b[0m, in \u001b[0;36mCDLL.__init__\u001b[0;34m(self, name, mode, handle, use_errno, use_last_error, winmode)\u001b[0m\n\u001b[1;32m    378\u001b[0m \u001b[38;5;28mself\u001b[39m\u001b[38;5;241m.\u001b[39m_FuncPtr \u001b[38;5;241m=\u001b[39m _FuncPtr\n\u001b[1;32m    380\u001b[0m \u001b[38;5;28;01mif\u001b[39;00m handle \u001b[38;5;129;01mis\u001b[39;00m \u001b[38;5;28;01mNone\u001b[39;00m:\n\u001b[0;32m--> 381\u001b[0m     \u001b[38;5;28mself\u001b[39m\u001b[38;5;241m.\u001b[39m_handle \u001b[38;5;241m=\u001b[39m \u001b[43m_dlopen\u001b[49m\u001b[43m(\u001b[49m\u001b[38;5;28;43mself\u001b[39;49m\u001b[38;5;241;43m.\u001b[39;49m\u001b[43m_name\u001b[49m\u001b[43m,\u001b[49m\u001b[43m \u001b[49m\u001b[43mmode\u001b[49m\u001b[43m)\u001b[49m\n\u001b[1;32m    382\u001b[0m \u001b[38;5;28;01melse\u001b[39;00m:\n\u001b[1;32m    383\u001b[0m     \u001b[38;5;28mself\u001b[39m\u001b[38;5;241m.\u001b[39m_handle \u001b[38;5;241m=\u001b[39m handle\n",
      "\u001b[0;31mOSError\u001b[0m: dlopen(/Users/natalie/anaconda3/lib/python3.8/site-packages/lightgbm/lib/lib_lightgbm.so, 0x0006): Library not loaded: /usr/local/opt/libomp/lib/libomp.dylib\n  Referenced from: <C3EB28DD-60B6-3334-AFA2-72BBBF9DBAEF> /Users/natalie/anaconda3/lib/python3.8/site-packages/lightgbm/lib/lib_lightgbm.so\n  Reason: tried: '/usr/local/opt/libomp/lib/libomp.dylib' (no such file), '/System/Volumes/Preboot/Cryptexes/OS/usr/local/opt/libomp/lib/libomp.dylib' (no such file), '/usr/local/opt/libomp/lib/libomp.dylib' (no such file), '/usr/local/lib/libomp.dylib' (no such file), '/usr/lib/libomp.dylib' (no such file, not in dyld cache)"
     ]
    }
   ],
   "source": [
    "import pandas as pd\n",
    "import lightgbm as lgb\n",
    "\n",
    "print(pd.__version__)\n",
    "print(lgb.__version__)"
   ]
  },
  {
   "cell_type": "code",
   "execution_count": 2,
   "metadata": {},
   "outputs": [],
   "source": [
    "test = pd.read_parquet('/Users/natalie/Desktop/DS Thesis/Code/data/test.parquet')\n",
    "train = pd.read_parquet('/Users/natalie/Desktop/DS Thesis/Code/data/train.parquet')"
   ]
  },
  {
   "cell_type": "code",
   "execution_count": 3,
   "metadata": {},
   "outputs": [],
   "source": [
    "TARGET ='churn_user'\n",
    "CATEGORICAL_FEATURES  = ['os_name', 'age_group','gender', 'country', 'region', 'province_type',\n",
    "                         'province']\n",
    "DATETIME_FEATURES  = ['first_date', 'lastest_active_day']\n",
    "SEARCH_CC_FEATURES = [ 'clicks', 'search_volume', 'dating_search', 'videoclip_search', 'technical_search', 'housekeeping_family_search', 'marketing_search', 'other_search']\n",
    "SEARCH_GG_FEATURES = [ 'serp_click', 'search_volume_gg', 'search_clicks_gg', 'other_search_gg','housekeeping_family_search_gg','videoclip_search_gg', 'dating_search_gg', 'marketing_search_gg', 'technical_search_gg']\n",
    "ACTIVE_FEATURES = ['active_day', 'life_time',  'not_active_day', 'total_active_time']\n",
    "ADS_FEATURES =  ['ads_impression', 'ads_click', 'ads_revenue']\n",
    "OTHERS_FEATURES =[ 'newtab_count', 'download_count', 'pip_count', 'sidebar_count', 'incognito_count', 'signin_count', 'youtube_count',\n",
    "                    'work_count', 'social_count', 'news_count', 'entertainment_count', 'ecommerce_count']\n",
    "NUMERICAL_FEATURES = SEARCH_CC_FEATURES + SEARCH_GG_FEATURES + ACTIVE_FEATURES + ADS_FEATURES + OTHERS_FEATURES\n",
    "MODEL_NAMES = ['log_reg', 'randomforest','lightgbm', 'xgboost', 'mlp']\n"
   ]
  },
  {
   "cell_type": "code",
   "execution_count": 4,
   "metadata": {},
   "outputs": [],
   "source": [
    "def find_best_threshold_f1_score(train_labels, oofs, average='macro'):\n",
    "    scores = []\n",
    "    thresholds = []\n",
    "    best_score = 0\n",
    "    best_threshold = 0\n",
    "    for threshold in np.arange(0.1, 0.9, 0.01):\n",
    "        print(f'{threshold:.02f}, ', end='')\n",
    "        preds = (oofs > threshold).astype('int')\n",
    "        m = f1_score(train_labels, preds, average=average)\n",
    "        scores.append(m)\n",
    "        thresholds.append(threshold)\n",
    "        if m > best_score:\n",
    "            best_score = m\n",
    "            best_threshold = threshold\n",
    "    return best_threshold, best_score\n"
   ]
  },
  {
   "cell_type": "code",
   "execution_count": 5,
   "metadata": {},
   "outputs": [],
   "source": [
    "def flat_feature_engineer(df):\n",
    "    temp = pd.DataFrame()\n",
    "    temp['OTHERS_FEATURES_SUM'] = df[OTHERS_FEATURES].sum(axis=1)\n",
    "    temp['OTHERS_FEATURES_MIN'] = df[OTHERS_FEATURES].min(axis=1)\n",
    "    temp['OTHERS_FEATURES_MAX'] = df[OTHERS_FEATURES].max(axis=1)\n",
    "    temp['OTHERS_FEATURES_MEAN'] = df[OTHERS_FEATURES].mean(axis=1)\n",
    "    temp['ADS_CTR'] = df['ads_click'] / df['ads_impression']\n",
    "    temp['SEARCH_CC_FEATURES_SUM'] = df[SEARCH_CC_FEATURES[1:]].sum(axis=1)\n",
    "    temp['SEARCH_CC_FEATURES_MIN'] = df[SEARCH_CC_FEATURES[1:]].min(axis=1)\n",
    "    temp['SEARCH_CC_FEATURES_MAX'] = df[SEARCH_CC_FEATURES[1:]].max(axis=1)\n",
    "    temp['SEARCH_CC_FEATURES_MEAN'] = df[SEARCH_CC_FEATURES[1:]].mean(axis=1)\n",
    "    temp['SEARCH_GG_FEATURES_SUM'] = df[SEARCH_GG_FEATURES[1:]].sum(axis=1)\n",
    "    temp['SEARCH_GG_FEATURES_MIN'] = df[SEARCH_GG_FEATURES[1:]].min(axis=1)\n",
    "    temp['SEARCH_GG_FEATURES_MAX'] = df[SEARCH_GG_FEATURES[1:]].max(axis=1)\n",
    "    temp['SEARCH_GG_FEATURES_MEAN'] = df[SEARCH_GG_FEATURES[1:]].mean(axis=1)\n",
    "    temp['not_active_day_per_active_day'] = df['not_active_day'] / df['active_day']\n",
    "    temp['life_time_per_active_day'] = df['life_time'] / df['active_day']\n",
    "    return temp, list(temp.columns)\n",
    "\n",
    "def fillna(df):\n",
    "    df['total_active_time'] = df['total_active_time'].fillna(0)\n",
    "    df['ads_impression'] = df['ads_impression'].fillna(0)\n",
    "    df['ads_click'] = df['ads_click'].fillna(0)\n",
    "    df['ads_revenue'] = df['ads_revenue'].fillna(0)\n",
    "    df['clicks'] = df['clicks'].fillna(0)\n",
    "    for c in OTHERS_FEATURES:\n",
    "        df[c] = df[c].fillna(0)\n",
    "    return df\n",
    "\n",
    "def process_data(df,oh_encoder=None, robust_scaler=None,agg_features=None):\n",
    "    if not oh_encoder:\n",
    "        print(\"fit train OneHotEncoder\")\n",
    "        oh_encoder = OneHotEncoder()\n",
    "        oh_encoder.fit(df[CATEGORICAL_FEATURES])\n",
    "    else:\n",
    "        print(\"loadd onehot encoder\")\n",
    "    if not robust_scaler:\n",
    "        print(\"fit train RobustScaler\")\n",
    "        robust_scaler = RobustScaler()\n",
    "        robust_scaler.fit(df[NUMERICAL_FEATURES])\n",
    "    else:\n",
    "        print(\"loadd robust scaler\")\n",
    "    df_cat = pd.DataFrame(oh_encoder.transform(df[CATEGORICAL_FEATURES]).toarray())\n",
    "    new_cat_cols = oh_encoder.get_feature_names_out(CATEGORICAL_FEATURES)\n",
    "    df_cat.columns = new_cat_cols\n",
    "    df_num = pd.DataFrame(robust_scaler.transform(df[NUMERICAL_FEATURES]))\n",
    "    df_num.columns = NUMERICAL_FEATURES\n",
    "    new_df = pd.concat([df_cat.reset_index(drop=True), df_num.reset_index(drop=True)], axis=1)\n",
    "    new_df = fillna(new_df)\n",
    "    return new_df, oh_encoder, robust_scaler"
   ]
  },
  {
   "cell_type": "code",
   "execution_count": 58,
   "metadata": {},
   "outputs": [],
   "source": [
    "N_ESTIMATORS = 200\n",
    "SEED=42\n",
    "LGBM_Hyperparameters =  {\n",
    "    \"n_estimators\": N_ESTIMATORS,\n",
    "    'learning_rate':0.03,\n",
    "     'max_depth':8,\n",
    "     'colsample_bytree':0.8,\n",
    "     'subsample':0.8,\n",
    "     # 'reg_alpha':8,\n",
    "     # 'reg_lambda':32,\n",
    "\n",
    "    \"random_state\":SEED,\n",
    "    'device':'gpu',\n",
    "#     \"class_weight\": \"balanced\"\n",
    "}\n",
    "\n",
    "XGBoost_Hyperparameters = {\n",
    "    'objective' : 'binary:logistic',\n",
    "     'eval_metric':['logloss', 'auc'],\n",
    "     'n_estimators':N_ESTIMATORS,\n",
    "     'learning_rate':0.03,\n",
    "     'max_depth':8,\n",
    "     'colsample_bytree':0.5,\n",
    "     'subsample':0.8,\n",
    "     'reg_alpha':8,\n",
    "     'reg_lambda':32,\n",
    "     'seed':SEED,\n",
    "     # 'scale_pos_weight':3,\n",
    "     'enable_categorical':True,\n",
    "     'early_stopping_rounds': 50,\n",
    "     'tree_method':'gpu_hist'}\n",
    "RF_Hyperparameters = {\n",
    "    'n_estimators': N_ESTIMATORS,\n",
    "    'max_depth':8,\n",
    "    'random_state':SEED,\n",
    "    'max_features': 'sqrt', \n",
    "    'n_jobs': -1\n",
    "}\n",
    "Logreg_Hyperparameters = {'max_iter':N_ESTIMATORS,'random_state':SEED} \n",
    "MLP_Hyperparametesr = {'hidden_layer_sizes':(3,125), 'random_state':SEED, 'max_iter':min(N_ESTIMATORS,100)}\n",
    "kfold = StratifiedKFold(n_splits=3, shuffle=True, random_state=SEED)\n",
    "\n",
    "def cross_validate(train, USE_SMOTE=False, USE_CLASS_WEIGHT=False, USE_UNDER_SAMPLING=False):\n",
    "    oofs = np.zeros((train.shape[0], len(MODEL_NAMES)))\n",
    "    for i, (train_index, valid_index) in enumerate(kfold.split(train, train[TARGET])):\n",
    "        print(f\"===========fold {i}================\")\n",
    "        X_train, oh_encoder, robust_scaler = process_data(train.iloc[train_index])\n",
    "        X_valid, _, _  = process_data(train.iloc[valid_index], oh_encoder,robust_scaler)\n",
    "        print(X_train.isnull().sum())\n",
    "        y_train = train.iloc[train_index][TARGET].values\n",
    "        y_valid = train.iloc[valid_index][TARGET].values\n",
    "        logreg_hyperparameters = Logreg_Hyperparameters.copy()\n",
    "        lgb_hyperparameters = LGBM_Hyperparameters.copy()\n",
    "        xgboost_hyperparameters = XGBoost_Hyperparameters.copy()\n",
    "        rf_hyperparameters = RF_Hyperparameters.copy()\n",
    "        mlp_hyperparameters = MLP_Hyperparametesr.copy()\n",
    "        if USE_SMOTE:\n",
    "            print(\"SMOTEEEE\")\n",
    "            sm = SMOTE(random_state=42)\n",
    "            X_train, y_train = sm.fit_resample(X_train, y_train)\n",
    "        elif USE_CLASS_WEIGHT:\n",
    "            print(\"CLASS_WEIGHTTTT\")\n",
    "           \n",
    "            class_weights = compute_class_weight('balanced', classes=np.array([0, 1]), y=y_train)\n",
    "            class_weights =  {0: class_weights[0], 1: class_weights[1]}\n",
    "            lgb_hyperparameters['class_weight'] = class_weights\n",
    "            logreg_hyperparameters['class_weight'] = class_weights\n",
    "            xgboost_hyperparameters['scale_pos_weight'] = class_weights[1] /  class_weights[0]\n",
    "            rf_hyperparameters['class_weight'] = class_weights\n",
    "        elif USE_UNDER_SAMPLING:\n",
    "            print(\"UNDER SAMPLING\")\n",
    "            rus = RandomUnderSampler(random_state=42)\n",
    "            X_train, y_train = rus.fit_resample(X_train, y_train)\n",
    "        print(\"LOGREG--------------\")\n",
    "        logreg_model = LogisticRegression(**logreg_hyperparameters)\n",
    "        logreg_model.fit(X_train, y_train)\n",
    "        logreg_y_pred_proba = logreg_model.predict_proba(X_valid)[:,1]\n",
    "        best_threshold, best_score = find_best_threshold_f1_score(y_valid, logreg_y_pred_proba)\n",
    "        print(f\"\\n best_threshold {best_threshold} best_score {best_score}\")\n",
    "        y_pred = [1 if y_hat >=best_threshold else 0 for y_hat in logreg_y_pred_proba]\n",
    "\n",
    "        print(roc_auc_score(y_valid, logreg_y_pred_proba))\n",
    "\n",
    "        print(classification_report(y_valid, y_pred, digits=4))\n",
    "        oofs[valid_index,0] = logreg_y_pred_proba\n",
    "\n",
    "        print(\"Random Forest--------------\")\n",
    "        rf_model = RandomForestClassifier(**rf_hyperparameters)\n",
    "        rf_model.fit(X_train, y_train)\n",
    "        rf_y_pred_proba = rf_model.predict_proba(X_valid)[:,1]\n",
    "        best_threshold, best_score = find_best_threshold_f1_score(y_valid, rf_y_pred_proba)\n",
    "        print(f\"\\n best_threshold {best_threshold} best_score {best_score}\")\n",
    "        y_pred = [1 if y_hat >=best_threshold else 0 for y_hat in rf_y_pred_proba]\n",
    "\n",
    "        print(roc_auc_score(y_valid, rf_y_pred_proba))\n",
    "\n",
    "        print(classification_report(y_valid, y_pred, digits=4))\n",
    "        oofs[valid_index,1] = rf_y_pred_proba\n",
    "    #     models.append(model)\n",
    "        print(\"LGBModel--------------\")\n",
    "        lgb_model = LGBMClassifier(**lgb_hyperparameters)\n",
    "        callbacks = [lgb.early_stopping(200, verbose=50), lgb.log_evaluation(period=50)]\n",
    "        lgb_model.fit(X_train, y_train,\n",
    "                  eval_set=[(X_train, y_train), (X_valid, y_valid)],\n",
    "                  eval_metric=[\"logloss\", \"auc\"],\n",
    "                  callbacks=callbacks)\n",
    "\n",
    "        lgb_y_pred_proba = lgb_model.predict_proba(X_valid)[:,1]\n",
    "        best_threshold, best_score = find_best_threshold_f1_score(y_valid, lgb_y_pred_proba)\n",
    "        print(f\"\\n best_threshold {best_threshold} best_score {best_score}\")\n",
    "        y_pred = [1 if y_hat >=best_threshold else 0 for y_hat in lgb_y_pred_proba]\n",
    "        print(roc_auc_score(y_valid, lgb_y_pred_proba))\n",
    "        print(classification_report(y_valid, y_pred, digits=4))\n",
    "        oofs[valid_index,2] = lgb_y_pred_proba\n",
    "    #     models.append(model)\n",
    "        # display(pd.DataFrame({'score': lgb_model.feature_importances_, 'feature': lgb_model.feature_name_}).sort_values('score',ascending=False))\n",
    "\n",
    "        print(\"XGBoost--------------\")\n",
    "        xgb_model = XGBClassifier(**xgboost_hyperparameters)\n",
    "        xgb_model.fit(X_train, y_train,\n",
    "                  eval_set=[(X_train, y_train), (X_valid, y_valid)],\n",
    "                  verbose=50)\n",
    "        xgb_y_pred_proba = xgb_model.predict_proba(X_valid)[:,1]\n",
    "        best_threshold, best_score = find_best_threshold_f1_score(y_valid, xgb_y_pred_proba)\n",
    "        print(f\"\\n best_threshold {best_threshold} best_score {best_score}\")\n",
    "        y_pred = [1 if y_hat >=best_threshold else 0 for y_hat in xgb_y_pred_proba]\n",
    "        print(roc_auc_score(y_valid, xgb_y_pred_proba))\n",
    "        print(classification_report(y_valid, y_pred, digits=4))\n",
    "        oofs[valid_index, 3] = xgb_y_pred_proba\n",
    "        \n",
    "        print(\"MLP------------------\")\n",
    "        mlp_model = MLPClassifier(**mlp_hyperparameters)\n",
    "        mlp_model.fit(X_train, y_train)\n",
    "        mlp_y_pred_proba = mlp_model.predict_proba(X_valid)[:,1]\n",
    "        best_threshold, best_score = find_best_threshold_f1_score(y_valid, mlp_y_pred_proba)\n",
    "        print(f\"\\n best_threshold {best_threshold} best_score {best_score}\")\n",
    "        y_pred = [1 if y_hat >=best_threshold else 0 for y_hat in mlp_y_pred_proba]\n",
    "        print(roc_auc_score(y_valid, mlp_y_pred_proba))\n",
    "        print(classification_report(y_valid, y_pred, digits=4))\n",
    "        oofs[valid_index, 4] = mlp_y_pred_proba\n",
    "    return oofs"
   ]
  },
  {
   "cell_type": "code",
   "execution_count": 59,
   "metadata": {},
   "outputs": [],
   "source": [
    "accuracy_scores = []\n",
    "f1_scores = []\n",
    "auc_scores = []\n",
    "specificity_scores = []\n",
    "sensitivity_scores = []\n",
    "def scoring(y_test,y_pred_proba, best_threshold):\n",
    "    y_pred = [1 if y_hat >= best_threshold else 0 for y_hat in y_pred_proba]\n",
    "    acc = accuracy_score(y_test, y_pred)\n",
    "    _f1_score = f1_score(y_test, y_pred, average='macro')\n",
    "    auc_score = roc_auc_score(y_test, y_pred_proba)\n",
    "    tn, fp, fn, tp = confusion_matrix(y_test, y_pred).ravel()\n",
    "    specificity = tn / (tn+fp)\n",
    "    sensitivity = tp / (tp+fn)\n",
    "    print(\"accuracy\", acc)\n",
    "    print(\"f1_score\", _f1_score)\n",
    "    print(\"auc\", auc_score)\n",
    "    print(\"sensitivity\", sensitivity, \"specificity\", specificity)\n",
    "    print(classification_report(y_test, y_pred, digits=4))\n",
    "    return acc, _f1_score, auc_score, specificity, sensitivity"
   ]
  },
  {
   "cell_type": "code",
   "execution_count": 87,
   "metadata": {},
   "outputs": [],
   "source": [
    "def train_model(oofs,X_train, y_train, X_test, y_test, USE_SMOTE=False,USE_CLASS_WEIGHT=False, USE_UNDER_SAMPLING=False):\n",
    "    models = []\n",
    "    predictions = []\n",
    "    accuracy_scores = []\n",
    "    f1_scores = []\n",
    "    auc_scores = []\n",
    "    specificity_scores = []\n",
    "    sensitivity_scores = []\n",
    "    best_thresholds = []\n",
    "    for i in range(len(MODEL_NAMES)):\n",
    "        best_threshold, best_score = find_best_threshold_f1_score(train[TARGET].values, oofs[:,i])\n",
    "        best_thresholds.append(best_threshold)\n",
    "        print('\\n',best_threshold, best_score)\n",
    "    logreg_hyperparameters = Logreg_Hyperparameters.copy()\n",
    "    lgb_hyperparameters = LGBM_Hyperparameters.copy()\n",
    "    xgboost_hyperparameters = XGBoost_Hyperparameters.copy()\n",
    "    del xgboost_hyperparameters['early_stopping_rounds']\n",
    "    rf_hyperparameters = RF_Hyperparameters.copy()\n",
    "    mlp_hyperparameters = MLP_Hyperparametesr.copy()\n",
    "    if USE_SMOTE:\n",
    "        print(\"SMOTEEEE\")\n",
    "        sm = SMOTE(random_state=42)\n",
    "        X_train, y_train = sm.fit_resample(X_train, y_train)\n",
    "    elif USE_CLASS_WEIGHT:\n",
    "        print(\"CLASS_WEIGHTTTT\")\n",
    "        class_weights = compute_class_weight('balanced', classes=np.array([0, 1]), y=y_train)\n",
    "        class_weights =  {0: class_weights[0], 1: class_weights[1]}\n",
    "        lgb_hyperparameters['class_weight'] = class_weights\n",
    "        logreg_hyperparameters['class_weight'] = class_weights\n",
    "        xgboost_hyperparameters['scale_pos_weight'] = class_weights[1]/ class_weights[0]\n",
    "        rf_hyperparameters['class_weight'] = class_weights\n",
    "    elif USE_UNDER_SAMPLING:\n",
    "        print(\"UNDER SAMPLING\")\n",
    "        rus = RandomUnderSampler(random_state=42)\n",
    "        X_train, y_train = rus.fit_resample(X_train, y_train)\n",
    "\n",
    "    print(\"LOGREG--------------\")\n",
    "    logreg_model = LogisticRegression(**logreg_hyperparameters)\n",
    "    logreg_model.fit(X_train, y_train)\n",
    "    logreg_y_pred_proba = logreg_model.predict_proba(X_test)[:,1]\n",
    "    acc, _f1_score, auc_score, specificity, sensitivity = scoring(y_test,logreg_y_pred_proba,best_thresholds[0])\n",
    "    accuracy_scores.append(acc)\n",
    "    f1_scores.append(_f1_score)\n",
    "    auc_scores.append(auc_score)\n",
    "    specificity_scores.append(specificity)\n",
    "    sensitivity_scores.append(sensitivity)\n",
    "    predictions.append(logreg_y_pred_proba)\n",
    "    models.append(logreg_model)\n",
    "\n",
    "    print(\"Random Forest--------------\")\n",
    "    rf_model = RandomForestClassifier(**rf_hyperparameters)\n",
    "    rf_model.fit(X_train, y_train)\n",
    "    rf_y_pred_proba = rf_model.predict_proba(X_test)[:,1]\n",
    "    acc, _f1_score, auc_score, specificity, sensitivity = scoring(y_test,rf_y_pred_proba,best_thresholds[1])\n",
    "    accuracy_scores.append(acc)\n",
    "    f1_scores.append(_f1_score)\n",
    "    auc_scores.append(auc_score)\n",
    "    specificity_scores.append(specificity)\n",
    "    sensitivity_scores.append(sensitivity)\n",
    "    predictions.append(rf_y_pred_proba)\n",
    "    models.append(rf_model)\n",
    "\n",
    "    print(\"LGBModel--------------\")\n",
    "    lgb_model = LGBMClassifier(**lgb_hyperparameters)\n",
    "    lgb_model.fit(X_train, y_train)\n",
    "    lgb_y_pred_proba = lgb_model.predict_proba(X_test)[:,1]\n",
    "    acc, _f1_score, auc_score, specificity, sensitivity = scoring(y_test,lgb_y_pred_proba,best_thresholds[2])\n",
    "    accuracy_scores.append(acc)\n",
    "    f1_scores.append(_f1_score)\n",
    "    auc_scores.append(auc_score)\n",
    "    specificity_scores.append(specificity)\n",
    "    sensitivity_scores.append(sensitivity)\n",
    "    predictions.append(lgb_y_pred_proba)\n",
    "    models.append(lgb_model)\n",
    "\n",
    "    print(\"XGBoost--------------\")\n",
    "    print(xgboost_hyperparameters)\n",
    "    xgb_model = XGBClassifier(**xgboost_hyperparameters)\n",
    "    xgb_model.fit(X_train, y_train)\n",
    "    xgb_y_pred_proba = xgb_model.predict_proba(X_test)[:,1]\n",
    "    acc, _f1_score, auc_score, specificity, sensitivity = scoring(y_test,xgb_y_pred_proba,best_thresholds[3])\n",
    "    accuracy_scores.append(acc)\n",
    "    f1_scores.append(_f1_score)\n",
    "    auc_scores.append(auc_score)\n",
    "    specificity_scores.append(specificity)\n",
    "    sensitivity_scores.append(sensitivity)\n",
    "    predictions.append(xgb_y_pred_proba)\n",
    "    models.append(xgb_model)\n",
    "    \n",
    "    print(\"MLP--------------\")\n",
    "    mlp_model = MLPClassifier(**mlp_hyperparameters)\n",
    "    mlp_model.fit(X_train, y_train)\n",
    "    mlp_y_pred_proba = mlp_model.predict_proba(X_test)[:,1]\n",
    "    acc, _f1_score, auc_score, specificity, sensitivity = scoring(y_test,mlp_y_pred_proba,best_thresholds[4])\n",
    "    accuracy_scores.append(acc)\n",
    "    f1_scores.append(_f1_score)\n",
    "    auc_scores.append(auc_score)\n",
    "    specificity_scores.append(specificity)\n",
    "    sensitivity_scores.append(sensitivity)\n",
    "    predictions.append(mlp_y_pred_proba)\n",
    "    models.append(mlp_model)\n",
    "\n",
    "    print(MODEL_NAMES)\n",
    "    print(accuracy_scores)\n",
    "    print(f1_scores)\n",
    "    print(auc_scores)\n",
    "    print(specificity_scores)\n",
    "    print(sensitivity_scores)\n",
    "    score_df = pd.DataFrame({'model_name': MODEL_NAMES,\n",
    "                         'accuracy_score':accuracy_scores, \n",
    "                         'f1_score': f1_scores, \n",
    "                         'auc_score': auc_scores, \n",
    "                         'specificity_score': specificity_scores, \n",
    "                         'sensitivity_score': sensitivity_scores})\n",
    "    return score_df,models, predictions"
   ]
  },
  {
   "cell_type": "code",
   "execution_count": 88,
   "metadata": {},
   "outputs": [
    {
     "name": "stdout",
     "output_type": "stream",
     "text": [
      "fit train OneHotEncoder\n",
      "fit train RobustScaler\n",
      "loadd onehot encoder\n",
      "loadd robust scaler\n"
     ]
    }
   ],
   "source": [
    "X_train,oh_encoder,robust_scaler = process_data(train)\n",
    "X_test, _,_ = process_data(test,oh_encoder,robust_scaler)\n",
    "y_train = train[TARGET].values\n",
    "y_test = test[TARGET].values"
   ]
  },
  {
   "cell_type": "code",
   "execution_count": 89,
   "metadata": {},
   "outputs": [
    {
     "name": "stdout",
     "output_type": "stream",
     "text": [
      "Use Class weight\n",
      "0.10, 0.11, 0.12, 0.13, 0.14, 0.15, 0.16, 0.17, 0.18, 0.19, 0.20, 0.21, 0.22, 0.23, 0.24, 0.25, 0.26, 0.27, 0.28, 0.29, 0.30, 0.31, 0.32, 0.33, 0.34, 0.35, 0.36, 0.37, 0.38, 0.39, 0.40, 0.41, 0.42, 0.43, 0.44, 0.45, 0.46, 0.47, 0.48, 0.49, 0.50, 0.51, 0.52, 0.53, 0.54, 0.55, 0.56, 0.57, 0.58, 0.59, 0.60, 0.61, 0.62, 0.63, 0.64, 0.65, 0.66, 0.67, 0.68, 0.69, 0.70, 0.71, 0.72, 0.73, 0.74, 0.75, 0.76, 0.77, 0.78, 0.79, 0.80, 0.81, 0.82, 0.83, 0.84, 0.85, 0.86, 0.87, 0.88, 0.89, \n",
      " 0.6899999999999997 0.7681388619721978\n",
      "0.10, 0.11, 0.12, 0.13, 0.14, 0.15, 0.16, 0.17, 0.18, 0.19, 0.20, 0.21, 0.22, 0.23, 0.24, 0.25, 0.26, 0.27, 0.28, 0.29, 0.30, 0.31, 0.32, 0.33, 0.34, 0.35, 0.36, 0.37, 0.38, 0.39, 0.40, 0.41, 0.42, 0.43, 0.44, 0.45, 0.46, 0.47, 0.48, 0.49, 0.50, 0.51, 0.52, 0.53, 0.54, 0.55, 0.56, 0.57, 0.58, 0.59, 0.60, 0.61, 0.62, 0.63, 0.64, 0.65, 0.66, 0.67, 0.68, 0.69, 0.70, 0.71, 0.72, 0.73, 0.74, 0.75, 0.76, 0.77, 0.78, 0.79, 0.80, 0.81, 0.82, 0.83, 0.84, 0.85, 0.86, 0.87, 0.88, 0.89, \n",
      " 0.6399999999999997 0.7663670402386513\n",
      "0.10, 0.11, 0.12, 0.13, 0.14, 0.15, 0.16, 0.17, 0.18, 0.19, 0.20, 0.21, 0.22, 0.23, 0.24, 0.25, 0.26, 0.27, 0.28, 0.29, 0.30, 0.31, 0.32, 0.33, 0.34, 0.35, 0.36, 0.37, 0.38, 0.39, 0.40, 0.41, 0.42, 0.43, 0.44, 0.45, 0.46, 0.47, 0.48, 0.49, 0.50, 0.51, 0.52, 0.53, 0.54, 0.55, 0.56, 0.57, 0.58, 0.59, 0.60, 0.61, 0.62, 0.63, 0.64, 0.65, 0.66, 0.67, 0.68, 0.69, 0.70, 0.71, 0.72, 0.73, 0.74, 0.75, 0.76, 0.77, 0.78, 0.79, 0.80, 0.81, 0.82, 0.83, 0.84, 0.85, 0.86, 0.87, 0.88, 0.89, \n",
      " 0.6699999999999997 0.7872708855369563\n",
      "0.10, 0.11, 0.12, 0.13, 0.14, 0.15, 0.16, 0.17, 0.18, 0.19, 0.20, 0.21, 0.22, 0.23, 0.24, 0.25, 0.26, 0.27, 0.28, 0.29, 0.30, 0.31, 0.32, 0.33, 0.34, 0.35, 0.36, 0.37, 0.38, 0.39, 0.40, 0.41, 0.42, 0.43, 0.44, 0.45, 0.46, 0.47, 0.48, 0.49, 0.50, 0.51, 0.52, 0.53, 0.54, 0.55, 0.56, 0.57, 0.58, 0.59, 0.60, 0.61, 0.62, 0.63, 0.64, 0.65, 0.66, 0.67, 0.68, 0.69, 0.70, 0.71, 0.72, 0.73, 0.74, 0.75, 0.76, 0.77, 0.78, 0.79, 0.80, 0.81, 0.82, 0.83, 0.84, 0.85, 0.86, 0.87, 0.88, 0.89, \n",
      " 0.6699999999999997 0.7876108586907486\n",
      "0.10, 0.11, 0.12, 0.13, 0.14, 0.15, 0.16, 0.17, 0.18, 0.19, 0.20, 0.21, 0.22, 0.23, 0.24, 0.25, 0.26, 0.27, 0.28, 0.29, 0.30, 0.31, 0.32, 0.33, 0.34, 0.35, 0.36, 0.37, 0.38, 0.39, 0.40, 0.41, 0.42, 0.43, 0.44, 0.45, 0.46, 0.47, 0.48, 0.49, 0.50, 0.51, 0.52, 0.53, 0.54, 0.55, 0.56, 0.57, 0.58, 0.59, 0.60, 0.61, 0.62, 0.63, 0.64, 0.65, 0.66, 0.67, 0.68, 0.69, 0.70, 0.71, 0.72, 0.73, 0.74, 0.75, 0.76, 0.77, 0.78, 0.79, 0.80, 0.81, 0.82, 0.83, 0.84, 0.85, 0.86, 0.87, 0.88, 0.89, \n",
      " 0.3999999999999998 0.78365673035903\n",
      "CLASS_WEIGHTTTT\n",
      "LOGREG--------------\n",
      "accuracy 0.82606\n",
      "f1_score 0.7683607998023443\n",
      "auc 0.8821362047102325\n",
      "sensitivity 0.6682949760863345 specificity 0.8771529184373221\n",
      "              precision    recall  f1-score   support\n",
      "\n",
      "           0     0.8909    0.8772    0.8840    151074\n",
      "           1     0.6379    0.6683    0.6528     48926\n",
      "\n",
      "    accuracy                         0.8261    200000\n",
      "   macro avg     0.7644    0.7727    0.7684    200000\n",
      "weighted avg     0.8290    0.8261    0.8274    200000\n",
      "\n",
      "Random Forest--------------\n",
      "accuracy 0.820115\n",
      "f1_score 0.7659855679918712\n",
      "auc 0.8893254684527838\n",
      "sensitivity 0.6932305931406614 specificity 0.8612070905648888\n",
      "              precision    recall  f1-score   support\n",
      "\n",
      "           0     0.8966    0.8612    0.8785    151074\n",
      "           1     0.6180    0.6932    0.6534     48926\n",
      "\n",
      "    accuracy                         0.8201    200000\n",
      "   macro avg     0.7573    0.7772    0.7660    200000\n",
      "weighted avg     0.8284    0.8201    0.8235    200000\n",
      "\n",
      "LGBModel--------------\n",
      "[LightGBM] [Warning] Accuracy may be bad since you didn't explicitly set num_leaves OR 2^max_depth > num_leaves. (num_leaves=31).\n",
      "[LightGBM] [Warning] Found whitespace in feature_names, replace with underlines\n",
      "[LightGBM] [Warning] Accuracy may be bad since you didn't explicitly set num_leaves OR 2^max_depth > num_leaves. (num_leaves=31).\n",
      "[LightGBM] [Info] Number of positive: 244328, number of negative: 755672\n",
      "[LightGBM] [Info] This is the GPU trainer!!\n",
      "[LightGBM] [Info] Total Bins 7203\n",
      "[LightGBM] [Info] Number of data points in the train set: 1000000, number of used features: 123\n",
      "[LightGBM] [Info] Using GPU Device: NVIDIA GeForce RTX 3070, Vendor: NVIDIA Corporation\n",
      "[LightGBM] [Info] Compiling OpenCL Kernel with 256 bins...\n",
      "[LightGBM] [Info] GPU programs have been built\n",
      "[LightGBM] [Info] Size of histogram bin entry: 8\n",
      "[LightGBM] [Info] 21 dense feature groups (22.89 MB) transferred to GPU in 0.018727 secs. 1 sparse feature groups\n",
      "[LightGBM] [Info] [binary:BoostFromScore]: pavg=0.500000 -> initscore=-0.000000\n",
      "[LightGBM] [Info] Start training from score -0.000000\n",
      "[LightGBM] [Warning] Accuracy may be bad since you didn't explicitly set num_leaves OR 2^max_depth > num_leaves. (num_leaves=31).\n",
      "accuracy 0.835305\n",
      "f1_score 0.7867959016949747\n",
      "auc 0.9048454503842664\n",
      "sensitivity 0.7323508972734334 specificity 0.8686471530508227\n",
      "              precision    recall  f1-score   support\n",
      "\n",
      "           0     0.9093    0.8686    0.8885    151074\n",
      "           1     0.6436    0.7324    0.6851     48926\n",
      "\n",
      "    accuracy                         0.8353    200000\n",
      "   macro avg     0.7764    0.8005    0.7868    200000\n",
      "weighted avg     0.8443    0.8353    0.8387    200000\n",
      "\n",
      "XGBoost--------------\n",
      "{'objective': 'binary:logistic', 'eval_metric': ['logloss', 'auc'], 'n_estimators': 200, 'learning_rate': 0.03, 'max_depth': 8, 'colsample_bytree': 0.5, 'subsample': 0.8, 'reg_alpha': 8, 'reg_lambda': 32, 'seed': 42, 'enable_categorical': True, 'tree_method': 'gpu_hist', 'scale_pos_weight': 3.092858780000655}\n",
      "accuracy 0.83632\n",
      "f1_score 0.7873366553205718\n",
      "auc 0.9052439012139433\n",
      "sensitivity 0.7284266034419327 specificity 0.8712617657571786\n",
      "              precision    recall  f1-score   support\n",
      "\n",
      "           0     0.9083    0.8713    0.8894    151074\n",
      "           1     0.6469    0.7284    0.6853     48926\n",
      "\n",
      "    accuracy                         0.8363    200000\n",
      "   macro avg     0.7776    0.7998    0.7873    200000\n",
      "weighted avg     0.8444    0.8363    0.8395    200000\n",
      "\n",
      "MLP--------------\n",
      "accuracy 0.83191\n",
      "f1_score 0.7829186448184171\n",
      "auc 0.9009633141330158\n",
      "sensitivity 0.7293667988390631 specificity 0.865119080715411\n",
      "              precision    recall  f1-score   support\n",
      "\n",
      "           0     0.9080    0.8651    0.8860    151074\n",
      "           1     0.6365    0.7294    0.6798     48926\n",
      "\n",
      "    accuracy                         0.8319    200000\n",
      "   macro avg     0.7723    0.7972    0.7829    200000\n",
      "weighted avg     0.8416    0.8319    0.8356    200000\n",
      "\n",
      "['log_reg', 'randomforest', 'lightgbm', 'xgboost', 'mlp']\n",
      "[0.82606, 0.820115, 0.835305, 0.83632, 0.83191]\n",
      "[0.7683607998023443, 0.7659855679918712, 0.7867959016949747, 0.7873366553205718, 0.7829186448184171]\n",
      "[0.8821362047102325, 0.8893254684527838, 0.9048454503842664, 0.9052439012139433, 0.9009633141330158]\n",
      "[0.8771529184373221, 0.8612070905648888, 0.8686471530508227, 0.8712617657571786, 0.865119080715411]\n",
      "[0.6682949760863345, 0.6932305931406614, 0.7323508972734334, 0.7284266034419327, 0.7293667988390631]\n"
     ]
    }
   ],
   "source": [
    "# print(\"Not handle Balanced\")\n",
    "# nothing_oofs = cross_validate(train)\n",
    "# nothing_score_df, nothing_models, nothing_predictions = train_model(nothing_oofs,X_train, y_train, X_test, y_test)\n",
    "\n",
    "# print(\"Use SMOTE\")\n",
    "# smote_oofs = cross_validate(train, USE_SMOTE=True)\n",
    "# smote_score_df, smote_models, smote_predictions = train_model(smote_oofs,X_train, y_train, X_test, y_test, USE_SMOTE=True)\n",
    "\n",
    "print(\"Use Class weight\")\n",
    "# class_weight_oofs = cross_validate(train, USE_CLASS_WEIGHT=True)\n",
    "class_weight_score_df, class_weight_models, class_weight_predictions = train_model(class_weight_oofs,X_train, y_train, X_test, y_test, USE_CLASS_WEIGHT=True)\n",
    "\n",
    "# print(\"Use Under sampling\")\n",
    "# under_sampling_oofs = cross_validate(train, USE_UNDER_SAMPLING=True)\n",
    "# under_sampling_score_df, under_sampling_models, under_sampling_predictions = train_model(under_sampling_oofs,X_train, y_train, X_test, y_test, USE_UNDER_SAMPLING=True)"
   ]
  },
  {
   "cell_type": "code",
   "execution_count": 90,
   "metadata": {},
   "outputs": [],
   "source": [
    "import pickle"
   ]
  },
  {
   "cell_type": "code",
   "execution_count": 91,
   "metadata": {},
   "outputs": [],
   "source": [
    "# with open(f\"../checkpoints/nothing_model_{N_ESTIMATORS}_estimators.pkl\", \"wb\") as f:\n",
    "#     pickle.dump({\n",
    "#         \"score_df\": nothing_score_df,\n",
    "#         \"oofs\": nothing_oofs,\n",
    "#         \"models\": nothing_models,\n",
    "#         \"model_names\": MODEL_NAMES,\n",
    "#         \"predictions\":nothing_predictions},f,protocol=pickle.HIGHEST_PROTOCOL)\n",
    "    \n",
    "# with open(f\"../checkpoints/smote_model_{N_ESTIMATORS}_estimators.pkl\", \"wb\") as f:\n",
    "#     pickle.dump({\n",
    "#             \"score_df\":smote_score_df,\n",
    "#             \"oofs\": smote_oofs,\n",
    "#             \"models\": smote_models,\n",
    "#             \"model_names\": MODEL_NAMES,\n",
    "#             \"predictions\":smote_predictions},f,protocol=pickle.HIGHEST_PROTOCOL)    \n",
    "\n",
    "with open(f\"../checkpoints/class_weight_model_{N_ESTIMATORS}_estimators.pkl\", \"wb\") as f:\n",
    "    pickle.dump({\n",
    "            \"score_df\":class_weight_score_df,\n",
    "            \"oofs\": class_weight_oofs,\n",
    "            \"models\": class_weight_models,\n",
    "            \"model_names\": MODEL_NAMES,\n",
    "            \"predictions\":class_weight_predictions},f,protocol=pickle.HIGHEST_PROTOCOL)\n",
    "    \n",
    "# with open(f\"../checkpoints/under_sampling_model_{N_ESTIMATORS}_estimators.pkl\", \"wb\") as f:\n",
    "#     pickle.dump({\n",
    "#             \"score_df\":under_sampling_score_df,\n",
    "#             \"oofs\": under_sampling_oofs,\n",
    "#             \"models\": under_sampling_models,\n",
    "#             \"model_names\": MODEL_NAMES,\n",
    "#             \"predictions\":under_sampling_predictions},f,protocol=pickle.HIGHEST_PROTOCOL)\n",
    "\n"
   ]
  },
  {
   "cell_type": "code",
   "execution_count": 51,
   "metadata": {},
   "outputs": [
    {
     "data": {
      "text/plain": [
       "<Axes: >"
      ]
     },
     "execution_count": 51,
     "metadata": {},
     "output_type": "execute_result"
    },
    {
     "data": {
      "image/png": "[encoded data removed]",
      "text/plain": [
       "<Figure size 640x480 with 2 Axes>"
      ]
     },
     "metadata": {},
     "output_type": "display_data"
    }
   ],
   "source": [
    "sns.heatmap(train[SEARCH_CC_FEATURES].corr(),annot=True)"
   ]
  },
  {
   "cell_type": "code",
   "execution_count": 52,
   "metadata": {},
   "outputs": [
    {
     "data": {
      "text/plain": [
       "<Axes: >"
      ]
     },
     "execution_count": 52,
     "metadata": {},
     "output_type": "execute_result"
    },
    {
     "data": {
      "image/png": "[encoded data removed]",
      "text/plain": [
       "<Figure size 640x480 with 2 Axes>"
      ]
     },
     "metadata": {},
     "output_type": "display_data"
    }
   ],
   "source": [
    "sns.heatmap(train[ADS_FEATURES].corr(),annot=True)"
   ]
  },
  {
   "cell_type": "code",
   "execution_count": 47,
   "metadata": {},
   "outputs": [
    {
     "data": {
      "text/plain": [
       "clicks               1.000000\n",
       "total_active_time    0.437201\n",
       "newtab_count         0.358348\n",
       "ads_impression       0.330719\n",
       "search_volume        0.262912\n",
       "Name: clicks, dtype: float64"
      ]
     },
     "metadata": {},
     "output_type": "display_data"
    },
    {
     "data": {
      "text/plain": [
       "search_volume       1.000000\n",
       "serp_click          0.911046\n",
       "other_search        0.873868\n",
       "technical_search    0.722837\n",
       "marketing_search    0.713562\n",
       "Name: search_volume, dtype: float64"
      ]
     },
     "metadata": {},
     "output_type": "display_data"
    },
    {
     "data": {
      "text/plain": [
       "dating_search       1.000000\n",
       "serp_click          0.523105\n",
       "search_volume       0.519251\n",
       "videoclip_search    0.360385\n",
       "other_search        0.311863\n",
       "Name: dating_search, dtype: float64"
      ]
     },
     "metadata": {},
     "output_type": "display_data"
    },
    {
     "data": {
      "text/plain": [
       "videoclip_search    1.000000\n",
       "search_volume       0.620036\n",
       "serp_click          0.592490\n",
       "technical_search    0.422911\n",
       "newtab_count        0.405729\n",
       "Name: videoclip_search, dtype: float64"
      ]
     },
     "metadata": {},
     "output_type": "display_data"
    },
    {
     "data": {
      "text/plain": [
       "technical_search    1.000000\n",
       "search_volume       0.722837\n",
       "serp_click          0.672005\n",
       "marketing_search    0.540135\n",
       "newtab_count        0.517872\n",
       "Name: technical_search, dtype: float64"
      ]
     },
     "metadata": {},
     "output_type": "display_data"
    },
    {
     "data": {
      "text/plain": [
       "housekeeping_family_search    1.000000\n",
       "search_volume                 0.526120\n",
       "serp_click                    0.460967\n",
       "other_search                  0.455391\n",
       "ads_impression                0.348435\n",
       "Name: housekeeping_family_search, dtype: float64"
      ]
     },
     "metadata": {},
     "output_type": "display_data"
    },
    {
     "data": {
      "text/plain": [
       "marketing_search    1.000000\n",
       "search_volume       0.713562\n",
       "serp_click          0.649157\n",
       "technical_search    0.540135\n",
       "other_search        0.522123\n",
       "Name: marketing_search, dtype: float64"
      ]
     },
     "metadata": {},
     "output_type": "display_data"
    },
    {
     "data": {
      "text/plain": [
       "other_search        1.000000\n",
       "search_volume       0.873868\n",
       "serp_click          0.766952\n",
       "newtab_count        0.526768\n",
       "marketing_search    0.522123\n",
       "Name: other_search, dtype: float64"
      ]
     },
     "metadata": {},
     "output_type": "display_data"
    },
    {
     "data": {
      "text/plain": [
       "serp_click          1.000000\n",
       "search_volume       0.911046\n",
       "other_search        0.766952\n",
       "technical_search    0.672005\n",
       "marketing_search    0.649157\n",
       "Name: serp_click, dtype: float64"
      ]
     },
     "metadata": {},
     "output_type": "display_data"
    },
    {
     "data": {
      "text/plain": [
       "search_volume_gg                 1.000000\n",
       "other_search_gg                  0.934680\n",
       "housekeeping_family_search_gg    0.822599\n",
       "search_clicks_gg                 0.752413\n",
       "marketing_search_gg              0.703819\n",
       "Name: search_volume_gg, dtype: float64"
      ]
     },
     "metadata": {},
     "output_type": "display_data"
    },
    {
     "data": {
      "text/plain": [
       "search_clicks_gg       1.000000\n",
       "search_volume_gg       0.752413\n",
       "other_search_gg        0.628690\n",
       "technical_search_gg    0.626359\n",
       "marketing_search_gg    0.603459\n",
       "Name: search_clicks_gg, dtype: float64"
      ]
     },
     "metadata": {},
     "output_type": "display_data"
    },
    {
     "data": {
      "text/plain": [
       "other_search_gg                  1.000000\n",
       "search_volume_gg                 0.934680\n",
       "housekeeping_family_search_gg    0.849527\n",
       "marketing_search_gg              0.642609\n",
       "search_clicks_gg                 0.628690\n",
       "Name: other_search_gg, dtype: float64"
      ]
     },
     "metadata": {},
     "output_type": "display_data"
    },
    {
     "data": {
      "text/plain": [
       "housekeeping_family_search_gg    1.000000\n",
       "other_search_gg                  0.849527\n",
       "search_volume_gg                 0.822599\n",
       "search_clicks_gg                 0.549767\n",
       "marketing_search_gg              0.545881\n",
       "Name: housekeeping_family_search_gg, dtype: float64"
      ]
     },
     "metadata": {},
     "output_type": "display_data"
    },
    {
     "data": {
      "text/plain": [
       "videoclip_search_gg    1.000000\n",
       "search_volume_gg       0.541017\n",
       "dating_search_gg       0.434835\n",
       "search_clicks_gg       0.382859\n",
       "other_search_gg        0.352149\n",
       "Name: videoclip_search_gg, dtype: float64"
      ]
     },
     "metadata": {},
     "output_type": "display_data"
    },
    {
     "data": {
      "text/plain": [
       "dating_search_gg       1.000000\n",
       "search_volume_gg       0.483564\n",
       "search_clicks_gg       0.441680\n",
       "videoclip_search_gg    0.434835\n",
       "marketing_search_gg    0.348865\n",
       "Name: dating_search_gg, dtype: float64"
      ]
     },
     "metadata": {},
     "output_type": "display_data"
    },
    {
     "data": {
      "text/plain": [
       "marketing_search_gg              1.000000\n",
       "search_volume_gg                 0.703819\n",
       "other_search_gg                  0.642609\n",
       "search_clicks_gg                 0.603459\n",
       "housekeeping_family_search_gg    0.545881\n",
       "Name: marketing_search_gg, dtype: float64"
      ]
     },
     "metadata": {},
     "output_type": "display_data"
    },
    {
     "data": {
      "text/plain": [
       "technical_search_gg    1.000000\n",
       "search_clicks_gg       0.626359\n",
       "search_volume_gg       0.586425\n",
       "total_active_time      0.391341\n",
       "marketing_search_gg    0.381083\n",
       "Name: technical_search_gg, dtype: float64"
      ]
     },
     "metadata": {},
     "output_type": "display_data"
    },
    {
     "data": {
      "text/plain": [
       "active_day           1.000000\n",
       "newtab_count         0.568413\n",
       "ads_impression       0.563756\n",
       "total_active_time    0.543566\n",
       "signin_count         0.514902\n",
       "Name: active_day, dtype: float64"
      ]
     },
     "metadata": {},
     "output_type": "display_data"
    },
    {
     "data": {
      "text/plain": [
       "life_time            1.000000\n",
       "active_day           0.080573\n",
       "signin_count         0.035755\n",
       "total_active_time    0.027701\n",
       "ads_impression       0.024184\n",
       "Name: life_time, dtype: float64"
      ]
     },
     "metadata": {},
     "output_type": "display_data"
    },
    {
     "data": {
      "text/plain": [
       "not_active_day     1.000000\n",
       "work_count        -0.014963\n",
       "ecommerce_count   -0.019995\n",
       "pip_count         -0.020098\n",
       "news_count        -0.020161\n",
       "Name: not_active_day, dtype: float64"
      ]
     },
     "metadata": {},
     "output_type": "display_data"
    },
    {
     "data": {
      "text/plain": [
       "total_active_time    1.000000\n",
       "newtab_count         0.752773\n",
       "ads_impression       0.717674\n",
       "active_day           0.543566\n",
       "search_volume_gg     0.526069\n",
       "Name: total_active_time, dtype: float64"
      ]
     },
     "metadata": {},
     "output_type": "display_data"
    },
    {
     "data": {
      "text/plain": [
       "ads_impression       1.000000\n",
       "newtab_count         0.938730\n",
       "total_active_time    0.717674\n",
       "search_volume        0.570123\n",
       "active_day           0.563756\n",
       "Name: ads_impression, dtype: float64"
      ]
     },
     "metadata": {},
     "output_type": "display_data"
    },
    {
     "data": {
      "text/plain": [
       "ads_click         1.000000\n",
       "ads_revenue       0.546912\n",
       "serp_click        0.409749\n",
       "ads_impression    0.408833\n",
       "search_volume     0.407061\n",
       "Name: ads_click, dtype: float64"
      ]
     },
     "metadata": {},
     "output_type": "display_data"
    },
    {
     "data": {
      "text/plain": [
       "ads_revenue         1.000000\n",
       "ads_click           0.546912\n",
       "newtab_count        0.370912\n",
       "technical_search    0.369694\n",
       "search_volume       0.365030\n",
       "Name: ads_revenue, dtype: float64"
      ]
     },
     "metadata": {},
     "output_type": "display_data"
    },
    {
     "data": {
      "text/plain": [
       "newtab_count         1.000000\n",
       "ads_impression       0.938730\n",
       "total_active_time    0.752773\n",
       "search_volume        0.633969\n",
       "serp_click           0.580594\n",
       "Name: newtab_count, dtype: float64"
      ]
     },
     "metadata": {},
     "output_type": "display_data"
    },
    {
     "data": {
      "text/plain": [
       "download_count         1.000000\n",
       "entertainment_count    0.056957\n",
       "total_active_time      0.051283\n",
       "dating_search_gg       0.046126\n",
       "newtab_count           0.042146\n",
       "Name: download_count, dtype: float64"
      ]
     },
     "metadata": {},
     "output_type": "display_data"
    },
    {
     "data": {
      "text/plain": [
       "pip_count              1.000000\n",
       "technical_search_gg    0.082169\n",
       "total_active_time      0.078816\n",
       "search_clicks_gg       0.075452\n",
       "youtube_count          0.067212\n",
       "Name: pip_count, dtype: float64"
      ]
     },
     "metadata": {},
     "output_type": "display_data"
    },
    {
     "data": {
      "text/plain": [
       "sidebar_count        1.000000\n",
       "total_active_time    0.208790\n",
       "newtab_count         0.184506\n",
       "search_volume        0.178699\n",
       "serp_click           0.166404\n",
       "Name: sidebar_count, dtype: float64"
      ]
     },
     "metadata": {},
     "output_type": "display_data"
    },
    {
     "data": {
      "text/plain": [
       "incognito_count     1.000000\n",
       "search_volume       0.172900\n",
       "dating_search       0.171167\n",
       "serp_click          0.152006\n",
       "videoclip_search    0.151261\n",
       "Name: incognito_count, dtype: float64"
      ]
     },
     "metadata": {},
     "output_type": "display_data"
    },
    {
     "data": {
      "text/plain": [
       "signin_count     1.000000\n",
       "active_day       0.514902\n",
       "newtab_count     0.374588\n",
       "search_volume    0.347462\n",
       "serp_click       0.342604\n",
       "Name: signin_count, dtype: float64"
      ]
     },
     "metadata": {},
     "output_type": "display_data"
    },
    {
     "data": {
      "text/plain": [
       "youtube_count          1.000000\n",
       "videoclip_search_gg    0.305240\n",
       "total_active_time      0.280782\n",
       "search_volume_gg       0.274240\n",
       "newtab_count           0.247305\n",
       "Name: youtube_count, dtype: float64"
      ]
     },
     "metadata": {},
     "output_type": "display_data"
    },
    {
     "data": {
      "text/plain": [
       "work_count           1.000000\n",
       "clicks               0.158759\n",
       "total_active_time    0.116354\n",
       "newtab_count         0.085939\n",
       "ads_impression       0.080023\n",
       "Name: work_count, dtype: float64"
      ]
     },
     "metadata": {},
     "output_type": "display_data"
    },
    {
     "data": {
      "text/plain": [
       "social_count         1.000000\n",
       "total_active_time    0.302012\n",
       "newtab_count         0.276206\n",
       "ads_impression       0.242121\n",
       "clicks               0.214268\n",
       "Name: social_count, dtype: float64"
      ]
     },
     "metadata": {},
     "output_type": "display_data"
    },
    {
     "data": {
      "text/plain": [
       "news_count                    1.000000\n",
       "ads_impression                0.103600\n",
       "total_active_time             0.082720\n",
       "housekeeping_family_search    0.070800\n",
       "ads_click                     0.062247\n",
       "Name: news_count, dtype: float64"
      ]
     },
     "metadata": {},
     "output_type": "display_data"
    },
    {
     "data": {
      "text/plain": [
       "entertainment_count    1.000000\n",
       "total_active_time      0.144907\n",
       "newtab_count           0.129417\n",
       "dating_search          0.125535\n",
       "serp_click             0.113520\n",
       "Name: entertainment_count, dtype: float64"
      ]
     },
     "metadata": {},
     "output_type": "display_data"
    },
    {
     "data": {
      "text/plain": [
       "ecommerce_count                  1.000000\n",
       "other_search_gg                  0.573945\n",
       "housekeeping_family_search_gg    0.520513\n",
       "search_volume_gg                 0.468170\n",
       "total_active_time                0.274080\n",
       "Name: ecommerce_count, dtype: float64"
      ]
     },
     "metadata": {},
     "output_type": "display_data"
    }
   ],
   "source": [
    "corr_df =train[NUMERICAL_FEATURES].corr()\n",
    "for col in NUMERICAL_FEATURES:\n",
    "    display(corr_df[col].sort_values(ascending=False).head())"
   ]
  },
  {
   "cell_type": "code",
   "execution_count": null,
   "metadata": {},
   "outputs": [],
   "source": [
    "X_train[trtra]"
   ]
  }
 ],
 "metadata": {
  "kernelspec": {
   "display_name": "churn_prediction",
   "language": "python",
   "name": "python3"
  },
  "language_info": {
   "codemirror_mode": {
    "name": "ipython",
    "version": 3
   },
   "file_extension": ".py",
   "mimetype": "text/x-python",
   "name": "python",
   "nbconvert_exporter": "python",
   "pygments_lexer": "ipython3",
   "version": "3.8.5"
  }
 },
 "nbformat": 4,
 "nbformat_minor": 2
}
